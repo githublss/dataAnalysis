{
 "cells": [
  {
   "cell_type": "code",
   "execution_count": 1,
   "metadata": {},
   "outputs": [],
   "source": [
    "import pandas as pd\n",
    "import numpy as np\n",
    "import seaborn as sns\n",
    "import matplotlib.pyplot as plt\n",
    "\n",
    "from datetime import datetime\n",
    "from datetime import timedelta\n",
    "\n",
    "%matplotlib inline\n",
    "pd.set_option('display.max_columns',None) #设置显示所有的列，而不是显示。。。"
   ]
  },
  {
   "cell_type": "code",
   "execution_count": 2,
   "metadata": {},
   "outputs": [],
   "source": [
    "def readData(number=1):\n",
    "    if number == 1:\n",
    "        df = pd.read_csv('D:\\lss\\ccfData\\HaiKou\\dwv_order_make_haikou_1.txt',sep='\\t')\n",
    "        return df\n",
    "    elif number == 2:\n",
    "        df = pd.read_csv('D:\\lss\\ccfData\\HaiKou\\dwv_order_make_haikou_2.txt',sep='\\t')\n",
    "        return df\n",
    "    elif number == 3:\n",
    "        df = pd.read_csv('D:\\lss\\ccfData\\HaiKou\\dwv_order_make_haikou_3.txt',sep='\\t')\n",
    "        return df\n",
    "    elif number == 4:\n",
    "        df = pd.read_csv('D:\\lss\\ccfData\\HaiKou\\dwv_order_make_haikou_4.txt',sep='\\t')\n",
    "        return df\n",
    "    elif number == 5:\n",
    "        df = pd.read_csv('D:\\lss\\ccfData\\HaiKou\\dwv_order_make_haikou_5.txt',sep='\\t')\n",
    "        return df\n",
    "    elif number == 6:\n",
    "        df = pd.read_csv('D:\\lss\\ccfData\\HaiKou\\dwv_order_make_haikou_6.txt',sep='\\t')\n",
    "        return df\n",
    "    elif number == 7:\n",
    "        df = pd.read_csv('D:\\lss\\ccfData\\HaiKou\\dwv_order_make_haikou_7.txt',sep='\\t')\n",
    "        return df\n",
    "    elif number == 8:\n",
    "        df = pd.read_csv('D:\\lss\\ccfData\\HaiKou\\dwv_order_make_haikou_8.txt',sep='\\t')\n",
    "        return df"
   ]
  },
  {
   "cell_type": "code",
   "execution_count": 3,
   "metadata": {},
   "outputs": [],
   "source": [
    "# 将文件添加到dfs列表中\n",
    "dfs = []\n",
    "for i in range(1,9):\n",
    "    dfs.append(readData(i))\n",
    "\n",
    "for everyDf in dfs:\n",
    "    everyDf.columns=['order_id',\n",
    "       'product_id', 'city_id',\n",
    "       'district', 'county',\n",
    "       'type', 'combo_type',\n",
    "       'traffic_type',\n",
    "       'passenger_count',\n",
    "       'driver_product_id',\n",
    "       'start_dest_distance',\n",
    "       'arrive_time',\n",
    "       'departure_time',\n",
    "       'pre_total_fee',\n",
    "       'normal_time',\n",
    "       'bubble_trace_id',\n",
    "       'product_1level',\n",
    "       'dest_lng', 'dest_lat',\n",
    "       'starting_lng',\n",
    "       'starting_lat', 'year',\n",
    "       'month', 'day']"
   ]
  },
  {
   "cell_type": "code",
   "execution_count": 4,
   "metadata": {},
   "outputs": [],
   "source": [
    "# 将多个表连接在一起，进行分析。\n",
    "data = pd.concat(dfs,ignore_index=True)\n",
    "# data = df.copy()"
   ]
  },
  {
   "cell_type": "code",
   "execution_count": 5,
   "metadata": {},
   "outputs": [],
   "source": [
    "# 将列名提取出来方便使用\n",
    "order_id = data.columns[0]\n",
    "product_id = data.columns[1]    #产品线id\n",
    "city_id = data.columns[2]\n",
    "district = data.columns[3]\n",
    "county = data.columns[4]        #记录县区id\n",
    "type = data.columns[5]          #订单时效\n",
    "combo_type = data.columns[6]\n",
    "traffic_type = data.columns[7]\n",
    "passenger_count = data.columns[8]\n",
    "driver_product_id = data.columns[9]   #司机子产品线\n",
    "start_dest_distance = data.columns[10]   #预估路面距离\n",
    "arrive_time = data.columns[11]      #到达时间\n",
    "departure_time = data.columns[12]   #出发时间\n",
    "pre_total_fee = data.columns[13]    #预估价格\n",
    "normal_time  = data.columns[14]     #时长\n",
    "bubble_trace_id = data.columns[15]\n",
    "product_1level = data.columns[16]   #业务类型\n",
    "dest_lng  = data.columns[17]\n",
    "dest_lat  = data.columns[18]\n",
    "starting_lng = data.columns[19]\n",
    "starting_lat = data.columns[20]\n",
    "year = data.columns[21]   \n",
    "month = data.columns[22]\n",
    "day = data.columns[23]"
   ]
  },
  {
   "cell_type": "code",
   "execution_count": 6,
   "metadata": {},
   "outputs": [
    {
     "name": "stdout",
     "output_type": "stream",
     "text": [
      "产品线ID的枚举值product_id\n",
      " 3    14001932\n",
      "1      156837\n",
      "2        1393\n",
      "Name: product_id, dtype: int64\n",
      "\n",
      "城市ID的枚举值city_id:\n",
      " 83    14160162\n",
      "Name: city_id, dtype: int64\n",
      "\n",
      "城市区号的枚举值district:\n",
      " 898    14160162\n",
      "Name: district, dtype: int64\n",
      "\n",
      "二级县区id的枚举值county:\n",
      " 460106    5803864\n",
      "460108    4111768\n",
      "460107    2532471\n",
      "460105    1710640\n",
      "469021       1408\n",
      "0               9\n",
      "469023          1\n",
      "469005          1\n",
      "Name: county, dtype: int64\n",
      "\n",
      "订单时效的枚举值type:\n",
      " 0    13893782\n",
      "1      266380\n",
      "Name: type, dtype: int64\n",
      "\n",
      "订单类型的枚举值combo_type:\n",
      " 0     14124384\n",
      "3        19905\n",
      "2        15765\n",
      "12         108\n",
      "Name: combo_type, dtype: int64\n",
      "\n",
      "交通类型的枚举值traffic_type:\n",
      " 0    13586319\n",
      "6      378248\n",
      "5      195562\n",
      "3          31\n",
      "2           2\n",
      "Name: traffic_type, dtype: int64\n",
      "\n",
      "乘车人数的枚举值passenger_count:\n",
      " 0    14160162\n",
      "Name: passenger_count, dtype: int64\n",
      "\n",
      "司机产品线的枚举值driver_product_id:\n",
      " 3    13339729\n",
      "0      682095\n",
      "1      137476\n",
      "2         862\n",
      "Name: driver_product_id, dtype: int64\n",
      "\n",
      "一级业务线的枚举值product_1level:\n",
      " 3    14001932\n",
      "1      158230\n",
      "Name: product_1level, dtype: int64\n"
     ]
    }
   ],
   "source": [
    "# 统计出产品线ID的枚举值\n",
    "print('产品线ID的枚举值product_id\\n',data[product_id].value_counts())\n",
    "\n",
    "# 统计出城市ID的枚举值\n",
    "print('\\n城市ID的枚举值city_id:\\n',data[city_id].value_counts())\n",
    "\n",
    "# 统计出城市区号的枚举值\n",
    "print('\\n城市区号的枚举值district:\\n',data[district].value_counts())\n",
    "\n",
    "# 统计出二级县区id的枚举值\n",
    "print('\\n二级县区id的枚举值county:\\n',data[county].value_counts())\n",
    "\n",
    "# 统计出订单时效的枚举值\n",
    "print('\\n订单时效的枚举值type:\\n',data[type].value_counts())\n",
    "\n",
    "# 统计出订单类型的枚举值\n",
    "print('\\n订单类型的枚举值combo_type:\\n',data[combo_type].value_counts())\n",
    "\n",
    "# 统计出交通类型的枚举值\n",
    "print('\\n交通类型的枚举值traffic_type:\\n',data[traffic_type ].value_counts())\n",
    "\n",
    "# 统计出乘车人数的枚举值\n",
    "print('\\n乘车人数的枚举值passenger_count:\\n',data[passenger_count].value_counts())\n",
    "\n",
    "# 统计出司机产品线的枚举值\n",
    "print('\\n司机产品线的枚举值driver_product_id:\\n',data[driver_product_id].value_counts())\n",
    "\n",
    "# 统计出一级业务线的枚举值\n",
    "print('\\n一级业务线的枚举值product_1level:\\n',data[product_1level].value_counts())"
   ]
  },
  {
   "cell_type": "markdown",
   "metadata": {},
   "source": [
    "可以看出来：**订单类型**，**交通类型**，**乘车人数**，出现了异常值。而产品线id和一级业务线数据基本相同。"
   ]
  },
  {
   "cell_type": "code",
   "execution_count": 7,
   "metadata": {},
   "outputs": [
    {
     "data": {
      "text/html": [
       "<div>\n",
       "<style scoped>\n",
       "    .dataframe tbody tr th:only-of-type {\n",
       "        vertical-align: middle;\n",
       "    }\n",
       "\n",
       "    .dataframe tbody tr th {\n",
       "        vertical-align: top;\n",
       "    }\n",
       "\n",
       "    .dataframe thead th {\n",
       "        text-align: right;\n",
       "    }\n",
       "</style>\n",
       "<table border=\"1\" class=\"dataframe\">\n",
       "  <thead>\n",
       "    <tr style=\"text-align: right;\">\n",
       "      <th></th>\n",
       "      <th>Total</th>\n",
       "      <th>Percent</th>\n",
       "    </tr>\n",
       "  </thead>\n",
       "  <tbody>\n",
       "    <tr>\n",
       "      <th>normal_time</th>\n",
       "      <td>1974224</td>\n",
       "      <td>0.139421</td>\n",
       "    </tr>\n",
       "    <tr>\n",
       "      <th>bubble_trace_id</th>\n",
       "      <td>199129</td>\n",
       "      <td>0.014063</td>\n",
       "    </tr>\n",
       "    <tr>\n",
       "      <th>day</th>\n",
       "      <td>0</td>\n",
       "      <td>0.000000</td>\n",
       "    </tr>\n",
       "    <tr>\n",
       "      <th>start_dest_distance</th>\n",
       "      <td>0</td>\n",
       "      <td>0.000000</td>\n",
       "    </tr>\n",
       "    <tr>\n",
       "      <th>product_id</th>\n",
       "      <td>0</td>\n",
       "      <td>0.000000</td>\n",
       "    </tr>\n",
       "  </tbody>\n",
       "</table>\n",
       "</div>"
      ],
      "text/plain": [
       "                       Total   Percent\n",
       "normal_time          1974224  0.139421\n",
       "bubble_trace_id       199129  0.014063\n",
       "day                        0  0.000000\n",
       "start_dest_distance        0  0.000000\n",
       "product_id                 0  0.000000"
      ]
     },
     "execution_count": 7,
     "metadata": {},
     "output_type": "execute_result"
    }
   ],
   "source": [
    "# 统计缺失值的数量和百分比\n",
    "total = data.isnull().sum().sort_values(ascending=False)\n",
    "precent = (data.isnull().sum()/data.isnull().count()).sort_values(ascending=False)\n",
    "missing_data = pd.concat([total,precent],axis=1,keys=['Total','Percent'])\n",
    "missing_data.head()"
   ]
  },
  {
   "cell_type": "code",
   "execution_count": 9,
   "metadata": {},
   "outputs": [
    {
     "data": {
      "text/plain": [
       "<matplotlib.axes._subplots.AxesSubplot at 0x20ef7710c88>"
      ]
     },
     "execution_count": 9,
     "metadata": {},
     "output_type": "execute_result"
    },
    {
     "data": {
      "image/png": "[encoded data removed]",
      "text/plain": [
       "<Figure size 432x288 with 1 Axes>"
      ]
     },
     "metadata": {},
     "output_type": "display_data"
    }
   ],
   "source": [
    "data.drop(index=data[(data[normal_time]<2)].index,inplace=True)\n",
    "data[normal_time].describe()"
   ]
  },
  {
   "cell_type": "code",
   "execution_count": 17,
   "metadata": {},
   "outputs": [
    {
     "data": {
      "text/plain": [
       "<matplotlib.axes._subplots.AxesSubplot at 0x20dd74088d0>"
      ]
     },
     "execution_count": 17,
     "metadata": {},
     "output_type": "execute_result"
    },
    {
     "data": {
      "image/png": "[encoded data removed]",
      "text/plain": [
       "<Figure size 432x288 with 1 Axes>"
      ]
     },
     "metadata": {},
     "output_type": "display_data"
    }
   ],
   "source": [
    "data[normal_time].describe()[['mean','std','min','max']].plot()"
   ]
  },
  {
   "cell_type": "code",
   "execution_count": null,
   "metadata": {},
   "outputs": [],
   "source": []
  }
 ],
 "metadata": {
  "kernelspec": {
   "display_name": "Python 3",
   "language": "python",
   "name": "python3"
  },
  "language_info": {
   "codemirror_mode": {
    "name": "ipython",
    "version": 3
   },
   "file_extension": ".py",
   "mimetype": "text/x-python",
   "name": "python",
   "nbconvert_exporter": "python",
   "pygments_lexer": "ipython3",
   "version": "3.6.5"
  }
 },
 "nbformat": 4,
 "nbformat_minor": 2
}
